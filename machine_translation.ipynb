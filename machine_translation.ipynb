{
  "cells": [
    {
      "cell_type": "markdown",
      "metadata": {
        "id": "view-in-github",
        "colab_type": "text"
      },
      "source": [
        "<a href=\"https://colab.research.google.com/github/AdnanSakal/Machine_Translation/blob/main/machine_translation.ipynb\" target=\"_parent\"><img src=\"https://colab.research.google.com/assets/colab-badge.svg\" alt=\"Open In Colab\"/></a>"
      ]
    },
    {
      "cell_type": "code",
      "execution_count": null,
      "metadata": {
        "id": "6cczm0aZsICM"
      },
      "outputs": [],
      "source": [
        "import tensorflow as tf\n",
        "import matplotlib.pyplot as plt\n",
        "import numpy as np\n",
        "import pandas as pd\n",
        "import random\n",
        "import zipfile\n",
        "import os"
      ]
    },
    {
      "cell_type": "code",
      "execution_count": null,
      "metadata": {
        "id": "vnLfMQUasd93"
      },
      "outputs": [],
      "source": [
        "!pip install tensorflow-text"
      ]
    },
    {
      "cell_type": "code",
      "execution_count": null,
      "metadata": {
        "id": "Ktuf7EE0s5Ig"
      },
      "outputs": [],
      "source": [
        "import tensorflow_text as tf_text"
      ]
    },
    {
      "cell_type": "code",
      "execution_count": null,
      "metadata": {
        "id": "3QYNPuA5s9ha"
      },
      "outputs": [],
      "source": [
        "!wget 'http://storage.googleapis.com/download.tensorflow.org/data/spa-eng.zip'"
      ]
    },
    {
      "cell_type": "code",
      "execution_count": null,
      "metadata": {
        "id": "qHboA6rrtY4n"
      },
      "outputs": [],
      "source": [
        "zip_ref = zipfile.ZipFile(\"spa-eng.zip\")\n",
        "zip_ref.extractall()\n",
        "zip_ref.close()"
      ]
    },
    {
      "cell_type": "code",
      "execution_count": null,
      "metadata": {
        "id": "_rlmqwTxtf3v"
      },
      "outputs": [],
      "source": [
        "with open(\"/content/spa-eng/spa.txt\",\"r\") as f:\n",
        "  text = f.read()"
      ]
    },
    {
      "cell_type": "code",
      "execution_count": null,
      "metadata": {
        "colab": {
          "background_save": true
        },
        "id": "BtvtnemFtpNK"
      },
      "outputs": [],
      "source": [
        "text"
      ]
    },
    {
      "cell_type": "code",
      "execution_count": null,
      "metadata": {
        "id": "2ErHTvQpFmFc"
      },
      "outputs": [],
      "source": [
        "context = np.array([i.split(\"\\t\")[0] for i in text.splitlines()])"
      ]
    },
    {
      "cell_type": "code",
      "execution_count": null,
      "metadata": {
        "id": "MY7i6TXGGq02"
      },
      "outputs": [],
      "source": [
        "target = np.array([i.split(\"\\t\")[1] for i in text.splitlines()])"
      ]
    },
    {
      "cell_type": "code",
      "execution_count": null,
      "metadata": {
        "colab": {
          "base_uri": "https://localhost:8080/"
        },
        "id": "ftMu5nodGgvY",
        "outputId": "b79f3742-23b3-4d3d-afd7-4d7cd3966ef8"
      },
      "outputs": [
        {
          "data": {
            "text/plain": [
              "('Have some.', 'Tome alguno.')"
            ]
          },
          "execution_count": 24,
          "metadata": {},
          "output_type": "execute_result"
        }
      ],
      "source": [
        "context[500],target[500]"
      ]
    },
    {
      "cell_type": "code",
      "execution_count": null,
      "metadata": {
        "id": "_xRpVNLVHDht"
      },
      "outputs": [],
      "source": [
        "from sklearn.model_selection import train_test_split\n",
        "x_train,x_test,y_train,y_test = train_test_split(context,target,test_size=0.2,random_state = 42)"
      ]
    },
    {
      "cell_type": "code",
      "execution_count": null,
      "metadata": {
        "colab": {
          "base_uri": "https://localhost:8080/"
        },
        "id": "Eer4a19EHVsl",
        "outputId": "910592fb-dc0a-4271-b7d6-63749bcb1ebf"
      },
      "outputs": [
        {
          "data": {
            "text/plain": [
              "('I have no choice at all.', 'No tengo otra opción en absoluto.')"
            ]
          },
          "execution_count": 32,
          "metadata": {},
          "output_type": "execute_result"
        }
      ],
      "source": [
        "x_train[0],y_train[0]"
      ]
    },
    {
      "cell_type": "code",
      "execution_count": null,
      "metadata": {
        "id": "8RggEWfGGzCM"
      },
      "outputs": [],
      "source": [
        "train_dataset = tf.data.Dataset.from_tensor_slices((x_train,y_train)).batch(64).prefetch(tf.data.AUTOTUNE)"
      ]
    },
    {
      "cell_type": "code",
      "execution_count": null,
      "metadata": {
        "colab": {
          "base_uri": "https://localhost:8080/"
        },
        "id": "Z4B-dDGSHqF9",
        "outputId": "eb642499-ab37-4bd5-b057-2b0ce4b520cd"
      },
      "outputs": [
        {
          "data": {
            "text/plain": [
              "<_PrefetchDataset element_spec=(TensorSpec(shape=(None,), dtype=tf.string, name=None), TensorSpec(shape=(None,), dtype=tf.string, name=None))>"
            ]
          },
          "execution_count": 11,
          "metadata": {},
          "output_type": "execute_result"
        }
      ],
      "source": [
        "train_dataset"
      ]
    },
    {
      "cell_type": "code",
      "execution_count": null,
      "metadata": {
        "id": "Anas96HvHuLW"
      },
      "outputs": [],
      "source": [
        "test_dataset = tf.data.Dataset.from_tensor_slices((x_test,y_test)).batch(64).prefetch(tf.data.AUTOTUNE)"
      ]
    },
    {
      "cell_type": "code",
      "execution_count": null,
      "metadata": {
        "id": "1yDePnceHzGj"
      },
      "outputs": [],
      "source": [
        "test_dataset"
      ]
    },
    {
      "cell_type": "code",
      "execution_count": null,
      "metadata": {
        "id": "_uu90mniH_aF"
      },
      "outputs": [],
      "source": [
        "def preprocess(text):\n",
        "  text = tf_text.normalize_utf8(text,\"NFKD\")\n",
        "  text = tf.strings.lower(text)\n",
        "  text = tf.strings.regex_replace(text,\"[^a-z.,!?¿]\",\" \")\n",
        "  text = tf.strings.regex_replace(text,\"[.,!?¿]\",r\" \\0 \")\n",
        "  text = tf.strings.strip(text)\n",
        "  text = tf.strings.join([\"[START]\",text,\"[END]\"],separator=\" \")\n",
        "  return text"
      ]
    },
    {
      "cell_type": "code",
      "execution_count": null,
      "metadata": {
        "colab": {
          "base_uri": "https://localhost:8080/"
        },
        "id": "--TBxp3OJiru",
        "outputId": "cd5514f6-2917-41e3-a333-9495458a8c47"
      },
      "outputs": [
        {
          "data": {
            "text/plain": [
              "118964"
            ]
          },
          "execution_count": 54,
          "metadata": {},
          "output_type": "execute_result"
        }
      ],
      "source": [
        "len(context)"
      ]
    },
    {
      "cell_type": "code",
      "execution_count": null,
      "metadata": {
        "colab": {
          "base_uri": "https://localhost:8080/",
          "height": 552
        },
        "id": "mlIEbYK08WRH",
        "outputId": "30570b17-2553-4c14-f2d7-dcd937ade593"
      },
      "outputs": [
        {
          "data": {
            "text/plain": [
              "(array([1.2456e+04, 3.8517e+04, 3.6392e+04, 2.3757e+04, 4.8780e+03,\n",
              "        1.8250e+03, 8.2200e+02, 1.5100e+02, 7.8000e+01, 4.1000e+01,\n",
              "        2.9000e+01, 2.0000e+00, 2.0000e+00, 8.0000e+00, 4.0000e+00,\n",
              "        0.0000e+00, 0.0000e+00, 0.0000e+00, 1.0000e+00, 1.0000e+00]),\n",
              " array([ 1. ,  3.3,  5.6,  7.9, 10.2, 12.5, 14.8, 17.1, 19.4, 21.7, 24. ,\n",
              "        26.3, 28.6, 30.9, 33.2, 35.5, 37.8, 40.1, 42.4, 44.7, 47. ]),\n",
              " <BarContainer object of 20 artists>)"
            ]
          },
          "execution_count": 30,
          "metadata": {},
          "output_type": "execute_result"
        },
        {
          "data": {
            "image/png": "[encoded data removed]",
            "text/plain": [
              "<Figure size 640x480 with 1 Axes>"
            ]
          },
          "metadata": {},
          "output_type": "display_data"
        }
      ],
      "source": [
        "len_of_word = [len(i.split()) for i in context]\n",
        "plt.hist(len_of_word,bins = 20)"
      ]
    },
    {
      "cell_type": "code",
      "execution_count": null,
      "metadata": {
        "colab": {
          "base_uri": "https://localhost:8080/"
        },
        "id": "NR740jQb8vWm",
        "outputId": "ba3e12fc-a245-4426-b0d1-1b7627340aa9"
      },
      "outputs": [
        {
          "data": {
            "text/plain": [
              "13.0"
            ]
          },
          "execution_count": 29,
          "metadata": {},
          "output_type": "execute_result"
        }
      ],
      "source": [
        "np.percentile(len_of_word,98)"
      ]
    },
    {
      "cell_type": "code",
      "execution_count": null,
      "metadata": {
        "id": "GqjtLGTfKToh"
      },
      "outputs": [],
      "source": [
        "from tensorflow.keras.layers import TextVectorization\n",
        "context_vect_layer = TextVectorization(max_tokens = 5000,\n",
        "                                    standardize = preprocess,\n",
        "                                    output_sequence_length = 16\n",
        "                                    )"
      ]
    },
    {
      "cell_type": "code",
      "execution_count": null,
      "metadata": {
        "id": "BdRUoq2OKsSL"
      },
      "outputs": [],
      "source": [
        "context_vect_layer.adapt(train_dataset.map(lambda x,y:x))"
      ]
    },
    {
      "cell_type": "code",
      "execution_count": null,
      "metadata": {
        "colab": {
          "base_uri": "https://localhost:8080/",
          "height": 499
        },
        "id": "ERQzkx2h_YZX",
        "outputId": "48b37cfd-5a9e-4ac3-db1d-039e2d13dc59"
      },
      "outputs": [
        {
          "data": {
            "text/plain": [
              "(array([5.6858e+04, 5.4272e+04, 6.9600e+03, 7.2000e+02, 1.0800e+02,\n",
              "        2.7000e+01, 1.1000e+01, 5.0000e+00, 2.0000e+00, 1.0000e+00]),\n",
              " array([ 1. ,  5.8, 10.6, 15.4, 20.2, 25. , 29.8, 34.6, 39.4, 44.2, 49. ]),\n",
              " <BarContainer object of 10 artists>)"
            ]
          },
          "execution_count": 37,
          "metadata": {},
          "output_type": "execute_result"
        },
        {
          "data": {
            "image/png": "[encoded data removed]",
            "text/plain": [
              "<Figure size 640x480 with 1 Axes>"
            ]
          },
          "metadata": {},
          "output_type": "display_data"
        }
      ],
      "source": [
        "len_of_word_ = [len(i.split()) for i in target]\n",
        "plt.hist(len_of_word_)"
      ]
    },
    {
      "cell_type": "code",
      "execution_count": null,
      "metadata": {
        "colab": {
          "base_uri": "https://localhost:8080/"
        },
        "id": "2YVjK6ug_hg-",
        "outputId": "dda86ff3-1606-490a-d84d-b2829aee9811"
      },
      "outputs": [
        {
          "data": {
            "text/plain": [
              "13.0"
            ]
          },
          "execution_count": 38,
          "metadata": {},
          "output_type": "execute_result"
        }
      ],
      "source": [
        "np.percentile(len_of_word_,98)"
      ]
    },
    {
      "cell_type": "code",
      "execution_count": null,
      "metadata": {
        "id": "-Z5ZM_C9_QjW"
      },
      "outputs": [],
      "source": [
        "target_vect_layer = TextVectorization(max_tokens = 5000,\n",
        "                                      standardize = preprocess,\n",
        "                                      output_sequence_length = 16\n",
        "                                      )"
      ]
    },
    {
      "cell_type": "code",
      "execution_count": null,
      "metadata": {
        "id": "U5VxO0SU_-2o"
      },
      "outputs": [],
      "source": [
        "target_vect_layer.adapt(train_dataset.map(lambda x,y:y))"
      ]
    },
    {
      "cell_type": "code",
      "execution_count": null,
      "metadata": {
        "id": "c28vHf_XAm9U"
      },
      "outputs": [],
      "source": [
        "def another_preprocess(context,target):\n",
        "  context = context_vect_layer(context)\n",
        "  target = target_vect_layer(target)\n",
        "  target_in = target[:,:-1]\n",
        "  target_out = target[:,1:]\n",
        "  return (context,target_in),target_out"
      ]
    },
    {
      "cell_type": "code",
      "execution_count": null,
      "metadata": {
        "id": "o1EMuPS6BFgv"
      },
      "outputs": [],
      "source": [
        "new_train_dataset = train_dataset.map(another_preprocess)\n",
        "new_test_dataset = test_dataset.map(another_preprocess)"
      ]
    },
    {
      "cell_type": "code",
      "execution_count": null,
      "metadata": {
        "colab": {
          "base_uri": "https://localhost:8080/"
        },
        "id": "KJpv__ErBQec",
        "outputId": "d357d333-76ed-48e8-827c-0f641a37d370"
      },
      "outputs": [
        {
          "name": "stdout",
          "output_type": "stream",
          "text": [
            "tf.Tensor([  3   5  22  75 758  43  59   2   4   0   0   0   0], shape=(13,), dtype=int64)\n",
            "tf.Tensor([   3    8   51  183 1473   16   12 1617    2    4    0    0], shape=(12,), dtype=int64)\n",
            "tf.Tensor([   8   51  183 1473   16   12 1617    2    4    0    0    0], shape=(12,), dtype=int64)\n"
          ]
        }
      ],
      "source": [
        "for (i,ii),j in new_train_dataset.take(1):\n",
        "  print(i[0])\n",
        "  eg_con = i\n",
        "  print(ii[0])\n",
        "  eg_target_in = ii\n",
        "  print(j[0])\n",
        "  eg_target_out = j"
      ]
    },
    {
      "cell_type": "code",
      "execution_count": null,
      "metadata": {
        "id": "OEfpcg7ZBgYc"
      },
      "outputs": [],
      "source": [
        "class Encoder(tf.keras.layers.Layer):\n",
        "  def __init__(self):\n",
        "    super().__init__()\n",
        "    self.embedding = tf.keras.layers.Embedding(input_dim = 5000,\n",
        "                                               output_dim = 256\n",
        "                                               )\n",
        "    self.lstm = tf.keras.layers.LSTM(512,return_sequences = True)\n",
        "\n",
        "  def call(self,input):\n",
        "    x = self.embedding(input)\n",
        "    x = self.lstm(x)\n",
        "    return x"
      ]
    },
    {
      "cell_type": "code",
      "execution_count": null,
      "metadata": {
        "colab": {
          "base_uri": "https://localhost:8080/"
        },
        "id": "LQcyEVA0rs5m",
        "outputId": "0127779f-394d-4602-b423-e5d23812ce6a"
      },
      "outputs": [
        {
          "data": {
            "text/plain": [
              "<tf.Tensor: shape=(64, 13, 512), dtype=float32, numpy=\n",
              "array([[[ 1.4196661e-04,  1.4751196e-03, -4.9320706e-03, ...,\n",
              "         -5.0907112e-03, -8.0890823e-03, -4.8283250e-03],\n",
              "        [ 6.1583309e-04, -3.2233943e-03, -3.1223753e-03, ...,\n",
              "         -3.4603635e-03, -8.2590478e-03, -6.0584494e-03],\n",
              "        [ 2.4971499e-03, -5.8839684e-03, -2.0031298e-03, ...,\n",
              "         -1.7244548e-04, -1.0488007e-02, -7.5098146e-03],\n",
              "        ...,\n",
              "        [ 2.9142525e-03, -7.7094068e-03,  1.0172575e-03, ...,\n",
              "         -7.2001019e-03,  1.9877763e-03,  5.4998174e-03],\n",
              "        [ 5.0805961e-03, -6.9593019e-03,  7.4281410e-04, ...,\n",
              "         -9.1714021e-03,  3.6878786e-03,  5.1454599e-03],\n",
              "        [ 6.7556887e-03, -6.0962178e-03,  6.9956650e-04, ...,\n",
              "         -1.0833677e-02,  4.5617782e-03,  4.7136787e-03]],\n",
              "\n",
              "       [[ 1.4196661e-04,  1.4751196e-03, -4.9320706e-03, ...,\n",
              "         -5.0907112e-03, -8.0890823e-03, -4.8283250e-03],\n",
              "        [ 6.1583309e-04, -3.2233943e-03, -3.1223753e-03, ...,\n",
              "         -3.4603635e-03, -8.2590478e-03, -6.0584494e-03],\n",
              "        [ 2.3051677e-03, -4.0336070e-03, -2.6373053e-03, ...,\n",
              "         -5.0364184e-04, -2.9421635e-03, -6.3186013e-03],\n",
              "        ...,\n",
              "        [ 4.9913377e-03, -5.0270706e-03,  3.5978449e-03, ...,\n",
              "         -8.2675228e-03,  5.5548232e-03,  1.4166160e-03],\n",
              "        [ 6.5541365e-03, -4.3679671e-03,  3.1466782e-03, ...,\n",
              "         -1.0401706e-02,  6.0371463e-03,  1.9038887e-03],\n",
              "        [ 7.7363160e-03, -3.6791761e-03,  2.8366235e-03, ...,\n",
              "         -1.2060393e-02,  6.0867495e-03,  2.2573713e-03]],\n",
              "\n",
              "       [[ 1.4196661e-04,  1.4751196e-03, -4.9320706e-03, ...,\n",
              "         -5.0907112e-03, -8.0890823e-03, -4.8283250e-03],\n",
              "        [-5.7953899e-04,  1.1583003e-03,  1.6283719e-03, ...,\n",
              "         -5.5945022e-03, -1.0252814e-02, -2.4951231e-03],\n",
              "        [ 3.5214080e-03, -3.5311901e-03,  5.4632863e-05, ...,\n",
              "         -1.1766020e-02, -1.0161744e-02, -2.9123311e-03],\n",
              "        ...,\n",
              "        [ 7.2036376e-03, -4.9023479e-03,  4.4566849e-03, ...,\n",
              "         -1.0222510e-02,  4.0124734e-03,  2.6845844e-03],\n",
              "        [ 8.3282832e-03, -4.0314128e-03,  3.9363410e-03, ...,\n",
              "         -1.1631098e-02,  4.1142772e-03,  2.7106139e-03],\n",
              "        [ 9.1469269e-03, -3.2094026e-03,  3.4849909e-03, ...,\n",
              "         -1.2806849e-02,  4.0561971e-03,  2.7834903e-03]],\n",
              "\n",
              "       ...,\n",
              "\n",
              "       [[ 1.4196661e-04,  1.4751196e-03, -4.9320706e-03, ...,\n",
              "         -5.0907112e-03, -8.0890823e-03, -4.8283250e-03],\n",
              "        [ 2.6986394e-03,  3.5156789e-03, -3.8272692e-03, ...,\n",
              "          1.6357341e-04, -5.5031073e-03, -5.6845201e-03],\n",
              "        [ 3.8928399e-04,  4.1531348e-03, -3.5427641e-03, ...,\n",
              "          3.7565618e-04, -2.7004087e-03, -3.0152160e-03],\n",
              "        ...,\n",
              "        [ 8.1834197e-03,  1.1132309e-03,  1.6067325e-03, ...,\n",
              "          7.7252761e-03, -7.2457469e-03, -6.8881707e-03],\n",
              "        [ 4.6903295e-03,  1.5093439e-03,  4.2476379e-03, ...,\n",
              "          3.9149934e-04, -2.2185661e-03, -1.6073294e-03],\n",
              "        [-1.3943356e-03, -5.5055083e-03,  8.2353773e-03, ...,\n",
              "          3.8597609e-03, -6.6967960e-03, -3.0729286e-03]],\n",
              "\n",
              "       [[ 1.4196661e-04,  1.4751196e-03, -4.9320706e-03, ...,\n",
              "         -5.0907112e-03, -8.0890823e-03, -4.8283250e-03],\n",
              "        [-6.6955388e-03,  1.6804693e-03, -3.8933284e-03, ...,\n",
              "         -7.6710701e-04, -1.0943038e-02, -7.3791989e-03],\n",
              "        [-5.0104046e-03, -3.4888738e-04, -7.7364580e-03, ...,\n",
              "         -4.9789073e-03, -8.8792741e-03, -4.6255519e-03],\n",
              "        ...,\n",
              "        [ 1.7019431e-03, -1.5622609e-03,  5.0582346e-03, ...,\n",
              "         -3.7453142e-03, -8.8390487e-04,  3.5075999e-03],\n",
              "        [ 3.8741345e-03, -1.3804967e-03,  4.4135628e-03, ...,\n",
              "         -6.8368819e-03,  1.1932788e-03,  3.8567772e-03],\n",
              "        [ 5.6087212e-03, -1.1782388e-03,  3.8838251e-03, ...,\n",
              "         -9.2595769e-03,  2.4473860e-03,  3.9972728e-03]],\n",
              "\n",
              "       [[ 1.4196661e-04,  1.4751196e-03, -4.9320706e-03, ...,\n",
              "         -5.0907112e-03, -8.0890823e-03, -4.8283250e-03],\n",
              "        [ 6.1583309e-04, -3.2233943e-03, -3.1223753e-03, ...,\n",
              "         -3.4603635e-03, -8.2590478e-03, -6.0584494e-03],\n",
              "        [-3.9503225e-03, -4.3401560e-03, -1.2245786e-03, ...,\n",
              "         -2.4770483e-04, -6.7946631e-03, -3.9401865e-03],\n",
              "        ...,\n",
              "        [-1.2524015e-03,  1.1117647e-02, -4.6270937e-03, ...,\n",
              "          1.6046581e-03, -2.1118936e-03,  4.2480792e-04],\n",
              "        [-9.0203723e-03,  9.3789613e-03, -3.9716624e-03, ...,\n",
              "          3.5333238e-03, -5.7885055e-03, -2.6446616e-03],\n",
              "        [-8.0724098e-03,  8.2236864e-03, -1.7108662e-04, ...,\n",
              "         -1.9733552e-03, -7.7125191e-04,  2.7268196e-03]]], dtype=float32)>"
            ]
          },
          "execution_count": 48,
          "metadata": {},
          "output_type": "execute_result"
        }
      ],
      "source": [
        "encoder = Encoder()\n",
        "eg_context = encoder(eg_con)\n",
        "eg_context"
      ]
    },
    {
      "cell_type": "code",
      "execution_count": null,
      "metadata": {
        "id": "kz-w7qr3sQtd"
      },
      "outputs": [],
      "source": [
        "class Attention(tf.keras.layers.Layer):\n",
        "  def __init__(self):\n",
        "    super().__init__()\n",
        "    self.mha = tf.keras.layers.MultiHeadAttention(num_heads = 1,key_dim = 256)\n",
        "    self.add = tf.keras.layers.Add()\n",
        "    self.layer_norm = tf.keras.layers.LayerNormalization()\n",
        "  def call(self,input,eg_context):\n",
        "    x = self.mha(input,eg_context)\n",
        "    x = self.add([input,x])\n",
        "    x = self.layer_norm(x)\n",
        "    return x"
      ]
    },
    {
      "cell_type": "code",
      "execution_count": null,
      "metadata": {
        "id": "tRbdFJsgtGQ-"
      },
      "outputs": [],
      "source": [
        "class Decoder(tf.keras.layers.Layer):\n",
        "  def __init__(self):\n",
        "    super().__init__()\n",
        "    self.word_to_index = tf.keras.layers.StringLookup(vocabulary = target_vect_layer.get_vocabulary(),\n",
        "                                                      mask_token = \"\",\n",
        "                                                      oov_token = \"[UNK]\"\n",
        "\n",
        "                                                      )\n",
        "    self.index_to_word = tf.keras.layers.StringLookup(vocabulary = target_vect_layer.get_vocabulary(),\n",
        "                                                      mask_token = \"\",\n",
        "                                                      oov_token = \"[UNK]\",\n",
        "                                                      invert = True\n",
        "                                                      )\n",
        "    self.start_token = self.word_to_index(\"[START]\")\n",
        "    self.end_token = self.word_to_index(\"[END]\")\n",
        "    self.embedding = tf.keras.layers.Embedding(input_dim = 5000,\n",
        "                                               output_dim = 256\n",
        "                                               )\n",
        "    self.attention = Attention()\n",
        "    self.lstm = tf.keras.layers.LSTM(512,return_sequences=True,return_state = True)\n",
        "    self.dense = tf.keras.layers.Dense(5000)\n",
        "\n",
        "  def call(self,input,encoder_context,return_state = False,state = None):\n",
        "    x = self.embedding(input)\n",
        "    x,state_c,state_h = self.lstm(x,initial_state = state)\n",
        "    x = self.attention(x,encoder_context)\n",
        "    x = self.dense(x)\n",
        "    if return_state:\n",
        "      return x,[state_c,state_h]\n",
        "    else:\n",
        "      return x\n",
        "\n",
        "  def get_initial_state(self,context):\n",
        "    batch_size = tf.shape(context)[0]\n",
        "    start_token = tf.fill([batch_size,1],self.start_token)\n",
        "    end_token = tf.zeros([batch_size,1],tf.bool)\n",
        "    x = self.embedding(start_token)\n",
        "    state_c,state_h = self.lstm(x)[1:]\n",
        "    return start_token,end_token,[state_c,state_h]\n",
        "\n",
        "  def tokens_to_word(self,text):\n",
        "    index = self.index_to_word(text)\n",
        "    text = tf.strings.reduce_join(index,axis=-1,separator  =\" \")\n",
        "    text = tf.strings.regex_replace(text, \"^ *\\[START\\]*\",\"\")\n",
        "    text = tf.strings.regex_replace(text, \" *\\[END\\] *$\",\"\")\n",
        "    return text\n",
        "\n",
        "  def get_next_token(self,s_token,encoder_context,end_token,state_c,state_h,temp = 0.0):\n",
        "    logits,[state_c,state_h] = self(s_token,encoder_context,state = [state_c,state_h],return_state = True)\n",
        "    if temp == 0.0:\n",
        "      s_token = tf.argmax(logits,-1)\n",
        "    else:\n",
        "      logits = logits[:,-1,:]/temp\n",
        "      s_token = tf.random.categorical(logits,num_samples = 1 )\n",
        "    end_token = end_token | (s_token == self.end_token)\n",
        "    s_token = tf.where(end_token,tf.constant(0,dtype = tf.int64),s_token)\n",
        "    return s_token,end_token,[state_c,state_h]\n"
      ]
    },
    {
      "cell_type": "code",
      "execution_count": null,
      "metadata": {
        "id": "G3xXRxOx8oeC"
      },
      "outputs": [],
      "source": [
        "decoder = Decoder()\n",
        "decoder(tf.cast(eg_target_in,dtype = tf.float32),eg_context)"
      ]
    },
    {
      "cell_type": "code",
      "execution_count": null,
      "metadata": {
        "id": "xvDIQ8pkWrnj"
      },
      "outputs": [],
      "source": [
        "s_token,end_token,[state_c,state_h] = decoder.get_initial_state(eg_context)"
      ]
    },
    {
      "cell_type": "code",
      "execution_count": null,
      "metadata": {
        "id": "0pZzJ_b6adhf"
      },
      "outputs": [],
      "source": [
        "token = []\n",
        "for i in range(10):\n",
        "  next_token,end_token,[state_c,state_h] = decoder.get_next_token(s_token,eg_context,end_token,state_c,state_h,temp = 1.0)\n",
        "  token.append(next_token)\n"
      ]
    },
    {
      "cell_type": "code",
      "execution_count": null,
      "metadata": {
        "id": "qVR23o7Cfm9a"
      },
      "outputs": [],
      "source": [
        "text = tf.concat(token,axis=-1)\n"
      ]
    },
    {
      "cell_type": "code",
      "execution_count": null,
      "metadata": {
        "colab": {
          "base_uri": "https://localhost:8080/"
        },
        "id": "G8H6rXS8X-5F",
        "outputId": "33c4effe-28d8-45f7-b5ef-a363a8541b98"
      },
      "outputs": [
        {
          "data": {
            "text/plain": [
              "<tf.Tensor: shape=(64,), dtype=string, numpy=\n",
              "array([b'mejor lar riendo vive cambies puedo pez zorro siempre vago',\n",
              "       b'ocurrido recibido hablaremos vuelva hacerse jarra idioma cayo escuchar canal',\n",
              "       b'ascensor infantil saliste suena vaca dijeron postal como coche limi',\n",
              "       b'guapa unos ensayo humo teatro ncipe servir leer gina acabas',\n",
              "       b'cerca inevitable cruzando nuestra tiempo considera sus grosero despertador realizo',\n",
              "       b'meta conclusio entendi hablas llamaron limpiando haberla rdenes anterior impedir',\n",
              "       b'punta crudo pongo hiciera minutos ratas vosotras recoger florero ecas',\n",
              "       b'evento bajo ales sente susurro menos estabas movio hija intercambio',\n",
              "       b'servicios diamante lees tica aspirina nada asustado ocupados abuela durara',\n",
              "       b'amos fin amaba manejar ahogo nacional olvido atrapar confuso llegando',\n",
              "       b'mos hiciera to llevar dedos canta blame supieras leccio brazo',\n",
              "       b'tantas cuerda ecas tomo conjunto complicado llamare disfrutar rifle quieres',\n",
              "       b'arena invento decirme duermo tengas cuidadoso sucio escenario mienten estar',\n",
              "       b'cuero azul particular profesora reporte cree rgica bebi mbolo ocho',\n",
              "       b'are jale profundo tienen emergencia pre dedo mire encontro saco',\n",
              "       b'casi accidente re tus elige ausencia rehuso mente dieciocho baile',\n",
              "       b'generalmente dulces aprendiste hecha respecto reglas gritando encendio cobarde diploma',\n",
              "       b'salimos estrellas aquellos atropellado entendemos ayudamos madera ayudarte canto pertenezco',\n",
              "       b'muchi gua abrazo metros entro actuo conseguirte obtuve colgo vuelan',\n",
              "       b'fantasma nin bienvenida tomara sonar coge ri rgate comprarlo nicas',\n",
              "       b'recibimos mono asesinato verdes buenos alrededor empezaron cara clase supieras',\n",
              "       b'tuviste erro apresu ecas linda largas resaca llave deporte abuela',\n",
              "       b'viste tarde mentiste tren acostar ascensor museo bebes espantoso registro',\n",
              "       b'hablemos sabor galletas gustaba encima pidos llegamos solucio rieron averigu',\n",
              "       b'energi dentro matarte supiste raro presencia moneda pesado vimos frigori',\n",
              "       b'mereci iguales huevos pocos apagar inu banca conoces buenos presio',\n",
              "       b'trabajaba movio lavarse tatuaje aviones escaleras nego sushi sientas pedazo',\n",
              "       b'asintio maras cuyo hermano partidos dese recogio ahogarse castan raqueta',\n",
              "       b'telefo vitamina inglaterra colegio tocado tren espejo encima hormigas sorprende',\n",
              "       b'quisiera paciente decirle dense lleno lee tuyos llames apaga sente',\n",
              "       b'fascinante prue boli azules ayudando necesite hablo rayo corrio mantendra',\n",
              "       b'tomo entendieron clientes ascensor rastro lloviendo londres brazos dari galletas',\n",
              "       b'probablemente matema escri semestre casamos pu pa maneja sera canasta',\n",
              "       b'famosa alcalde gano ndalo fuertes entra historia llegas celebrar ve',\n",
              "       b'aguantar tengamos grifo mu maletero hermana escapar plantas abrira diferencia',\n",
              "       b'grandes almuerzo maletas mama gasolina aun haga talento fresco mira',\n",
              "       b'lamentara hogar expresar mago encontrarse cil escuchado brillante conocido guste',\n",
              "       b'recuerdo queja scara buscas apariencia apresu diste entendido informo hora',\n",
              "       b'cerrada gastos matara seremos renuncie registro familias loca decisiones asumo',\n",
              "       b'ocurriendo corea orgulloso forma regar saben hijos molestar quedamos ventas',\n",
              "       b'adonde llamaste hijas hagan nunca nuestros nuevamente mapa planeando ligera',\n",
              "       b'fatal gente estate terminemos juguetes oficina cerro natural propios lle',\n",
              "       b'quiera empece neuma limpia raqueta niebla cuadro presio aman ntos',\n",
              "       b'atraveso comite mucha viaje pierdes paro pasada cinco partida esperare',\n",
              "       b'pimienta realista confundido preguntare suave condenado estadi incorrecto correos ganado',\n",
              "       b'tomando tardara cambiado describio rbol conta has banda tocando neuma',\n",
              "       b'presta pagan llegamos tendre cuanto nadaba negra caza cree preocupados',\n",
              "       b'arrestado serpiente por involucrado cara actualmente condenado deseos comprar dentista',\n",
              "       b'sur desconocido decisiones grito uniforme fresca efectivo prestarle moda habitacio',\n",
              "       b'unos preparados molesta parque elo corazo caso aparentemente soportar cambie',\n",
              "       b'tomas coartada l mero sacerdote miro montan culpo largos rate',\n",
              "       b'va amarilla vencido suen vivi etazo respira ntate elegido xido',\n",
              "       b'cocina prestarme toco varios vistazo oce interesa pague original recuerda',\n",
              "       b'cuenta pinturas adolescentes sintiendo vuestras misio perfecta cosecha corriente disfrute',\n",
              "       b'cuantas decidi encontrare reina experiencia collar entendi quieto aconsejo logo',\n",
              "       b'testigo querido escoba encontrarme veloz intentando claro dirigio tengamos ven',\n",
              "       b'hablan salieron dije cocinando avi sur chame celebrar do promedio',\n",
              "       b'sugiero dejar lastimo sello boda jo explicare vari brillante feliz',\n",
              "       b'asesinato usaba campana helico dios verdadero general funciona dijeron vuestros',\n",
              "       b'quito tanta un conductor idioma tejado dijo olvida clima humor',\n",
              "       b'llovido millas enamorada conocerte aire hablaron cogido conozco escalera arreglar',\n",
              "       b'enfado platos yendo web enero algunas carbo tapa cometi universidad',\n",
              "       b'campana votaron deo llorando corri planes vi ri mai ndole',\n",
              "       b'excepcio vera petro buscas meditando molestes hare  disfrazo esperare'],\n",
              "      dtype=object)>"
            ]
          },
          "execution_count": 127,
          "metadata": {},
          "output_type": "execute_result"
        }
      ],
      "source": [
        "decoder.tokens_to_word(text)"
      ]
    },
    {
      "cell_type": "code",
      "execution_count": null,
      "metadata": {
        "id": "-CvOUTQkYtYk"
      },
      "outputs": [],
      "source": [
        "class Translation(tf.keras.Model):\n",
        "  def __init__(self):\n",
        "    super().__init__()\n",
        "    self.encoder = Encoder()\n",
        "    self.decoder = Decoder()\n",
        "  def call(self,input):\n",
        "    en_in,de_in = input\n",
        "    x = self.encoder(en_in)\n",
        "    logits  =self.decoder(de_in,x)\n",
        "    return logits\n",
        "\n",
        "  def translation(self,text):\n",
        "    en_context = self.encoder(text)\n",
        "    tokens = []\n",
        "    s_token,e_token,[state_c,state_h] = self.decoder.get_initial_state(en_context)\n",
        "    for i in range(10):\n",
        "      s_token,e_token,[state_c,state_h] = self.decoder.get_next_token(s_token,en_context,e_token,state_c,state_h,temp = 1.0)\n",
        "      tokens.append(s_token)\n",
        "    x = tf.concat(tokens,axis=-1)\n",
        "    x = self.decoder.tokens_to_word(x)\n",
        "    return x"
      ]
    },
    {
      "cell_type": "code",
      "execution_count": null,
      "metadata": {
        "id": "JhKvdRm4dnBX"
      },
      "outputs": [],
      "source": [
        "model = Translation()"
      ]
    },
    {
      "cell_type": "code",
      "execution_count": null,
      "metadata": {
        "colab": {
          "base_uri": "https://localhost:8080/"
        },
        "id": "m6D_NsfgdzNS",
        "outputId": "99b5a0d3-5b40-43f2-e56a-d7927ac9612f"
      },
      "outputs": [
        {
          "output_type": "stream",
          "name": "stdout",
          "text": [
            "Epoch 1/100\n"
          ]
        },
        {
          "output_type": "stream",
          "name": "stderr",
          "text": [
            "/usr/local/lib/python3.10/dist-packages/keras/src/layers/layer.py:372: UserWarning: `build()` was called on layer 'decoder_1', however the layer does not have a `build()` method implemented and it looks like it has unbuilt state. This will cause the layer to be marked as built, despite not being actually built, which may cause failures down the line. Make sure to implement a proper `build()` method.\n",
            "  warnings.warn(\n"
          ]
        },
        {
          "output_type": "stream",
          "name": "stdout",
          "text": [
            "\u001b[1m100/100\u001b[0m \u001b[32m━━━━━━━━━━━━━━━━━━━━\u001b[0m\u001b[37m\u001b[0m \u001b[1m20s\u001b[0m 149ms/step - accuracy: 0.4828 - loss: 3.7848 - val_accuracy: 0.6128 - val_loss: 2.5082\n",
            "Epoch 2/100\n",
            "\u001b[1m100/100\u001b[0m \u001b[32m━━━━━━━━━━━━━━━━━━━━\u001b[0m\u001b[37m\u001b[0m \u001b[1m14s\u001b[0m 145ms/step - accuracy: 0.6279 - loss: 2.3806 - val_accuracy: 0.6545 - val_loss: 2.1019\n",
            "Epoch 3/100\n",
            "\u001b[1m100/100\u001b[0m \u001b[32m━━━━━━━━━━━━━━━━━━━━\u001b[0m\u001b[37m\u001b[0m \u001b[1m14s\u001b[0m 143ms/step - accuracy: 0.6587 - loss: 2.0673 - val_accuracy: 0.6798 - val_loss: 1.8670\n",
            "Epoch 4/100\n",
            "\u001b[1m100/100\u001b[0m \u001b[32m━━━━━━━━━━━━━━━━━━━━\u001b[0m\u001b[37m\u001b[0m \u001b[1m14s\u001b[0m 143ms/step - accuracy: 0.6831 - loss: 1.8576 - val_accuracy: 0.7044 - val_loss: 1.6709\n",
            "Epoch 5/100\n",
            "\u001b[1m100/100\u001b[0m \u001b[32m━━━━━━━━━━━━━━━━━━━━\u001b[0m\u001b[37m\u001b[0m \u001b[1m14s\u001b[0m 143ms/step - accuracy: 0.7074 - loss: 1.6572 - val_accuracy: 0.7235 - val_loss: 1.5227\n",
            "Epoch 6/100\n",
            "\u001b[1m100/100\u001b[0m \u001b[32m━━━━━━━━━━━━━━━━━━━━\u001b[0m\u001b[37m\u001b[0m \u001b[1m14s\u001b[0m 145ms/step - accuracy: 0.7233 - loss: 1.5307 - val_accuracy: 0.7453 - val_loss: 1.3649\n",
            "Epoch 7/100\n",
            "\u001b[1m100/100\u001b[0m \u001b[32m━━━━━━━━━━━━━━━━━━━━\u001b[0m\u001b[37m\u001b[0m \u001b[1m14s\u001b[0m 143ms/step - accuracy: 0.7457 - loss: 1.3606 - val_accuracy: 0.7600 - val_loss: 1.2557\n",
            "Epoch 8/100\n",
            "\u001b[1m100/100\u001b[0m \u001b[32m━━━━━━━━━━━━━━━━━━━━\u001b[0m\u001b[37m\u001b[0m \u001b[1m14s\u001b[0m 143ms/step - accuracy: 0.7636 - loss: 1.2421 - val_accuracy: 0.7735 - val_loss: 1.1712\n",
            "Epoch 9/100\n",
            "\u001b[1m100/100\u001b[0m \u001b[32m━━━━━━━━━━━━━━━━━━━━\u001b[0m\u001b[37m\u001b[0m \u001b[1m14s\u001b[0m 144ms/step - accuracy: 0.7752 - loss: 1.1695 - val_accuracy: 0.7868 - val_loss: 1.0952\n",
            "Epoch 10/100\n",
            "\u001b[1m100/100\u001b[0m \u001b[32m━━━━━━━━━━━━━━━━━━━━\u001b[0m\u001b[37m\u001b[0m \u001b[1m15s\u001b[0m 148ms/step - accuracy: 0.7884 - loss: 1.0822 - val_accuracy: 0.7933 - val_loss: 1.0366\n",
            "Epoch 11/100\n",
            "\u001b[1m100/100\u001b[0m \u001b[32m━━━━━━━━━━━━━━━━━━━━\u001b[0m\u001b[37m\u001b[0m \u001b[1m16s\u001b[0m 163ms/step - accuracy: 0.7904 - loss: 1.0526 - val_accuracy: 0.7965 - val_loss: 0.9983\n",
            "Epoch 12/100\n",
            "\u001b[1m100/100\u001b[0m \u001b[32m━━━━━━━━━━━━━━━━━━━━\u001b[0m\u001b[37m\u001b[0m \u001b[1m14s\u001b[0m 145ms/step - accuracy: 0.7979 - loss: 1.0054 - val_accuracy: 0.8044 - val_loss: 0.9501\n",
            "Epoch 13/100\n",
            "\u001b[1m100/100\u001b[0m \u001b[32m━━━━━━━━━━━━━━━━━━━━\u001b[0m\u001b[37m\u001b[0m \u001b[1m14s\u001b[0m 142ms/step - accuracy: 0.8070 - loss: 0.9441 - val_accuracy: 0.8087 - val_loss: 0.9227\n",
            "Epoch 14/100\n",
            "\u001b[1m100/100\u001b[0m \u001b[32m━━━━━━━━━━━━━━━━━━━━\u001b[0m\u001b[37m\u001b[0m \u001b[1m14s\u001b[0m 143ms/step - accuracy: 0.8074 - loss: 0.9361 - val_accuracy: 0.8134 - val_loss: 0.8965\n",
            "Epoch 15/100\n",
            "\u001b[1m100/100\u001b[0m \u001b[32m━━━━━━━━━━━━━━━━━━━━\u001b[0m\u001b[37m\u001b[0m \u001b[1m14s\u001b[0m 143ms/step - accuracy: 0.8154 - loss: 0.8930 - val_accuracy: 0.8136 - val_loss: 0.8915\n",
            "Epoch 16/100\n",
            "\u001b[1m100/100\u001b[0m \u001b[32m━━━━━━━━━━━━━━━━━━━━\u001b[0m\u001b[37m\u001b[0m \u001b[1m14s\u001b[0m 143ms/step - accuracy: 0.8179 - loss: 0.8610 - val_accuracy: 0.8190 - val_loss: 0.8537\n",
            "Epoch 17/100\n",
            "\u001b[1m100/100\u001b[0m \u001b[32m━━━━━━━━━━━━━━━━━━━━\u001b[0m\u001b[37m\u001b[0m \u001b[1m14s\u001b[0m 145ms/step - accuracy: 0.8218 - loss: 0.8371 - val_accuracy: 0.8230 - val_loss: 0.8318\n",
            "Epoch 18/100\n",
            "\u001b[1m100/100\u001b[0m \u001b[32m━━━━━━━━━━━━━━━━━━━━\u001b[0m\u001b[37m\u001b[0m \u001b[1m14s\u001b[0m 143ms/step - accuracy: 0.8255 - loss: 0.8122 - val_accuracy: 0.8234 - val_loss: 0.8210\n",
            "Epoch 19/100\n",
            "\u001b[1m100/100\u001b[0m \u001b[32m━━━━━━━━━━━━━━━━━━━━\u001b[0m\u001b[37m\u001b[0m \u001b[1m14s\u001b[0m 143ms/step - accuracy: 0.8298 - loss: 0.7811 - val_accuracy: 0.8251 - val_loss: 0.8131\n",
            "Epoch 20/100\n",
            "\u001b[1m100/100\u001b[0m \u001b[32m━━━━━━━━━━━━━━━━━━━━\u001b[0m\u001b[37m\u001b[0m \u001b[1m14s\u001b[0m 143ms/step - accuracy: 0.8327 - loss: 0.7551 - val_accuracy: 0.8266 - val_loss: 0.8022\n",
            "Epoch 21/100\n",
            "\u001b[1m100/100\u001b[0m \u001b[32m━━━━━━━━━━━━━━━━━━━━\u001b[0m\u001b[37m\u001b[0m \u001b[1m14s\u001b[0m 144ms/step - accuracy: 0.8340 - loss: 0.7419 - val_accuracy: 0.8288 - val_loss: 0.7879\n",
            "Epoch 22/100\n",
            "\u001b[1m100/100\u001b[0m \u001b[32m━━━━━━━━━━━━━━━━━━━━\u001b[0m\u001b[37m\u001b[0m \u001b[1m14s\u001b[0m 144ms/step - accuracy: 0.8387 - loss: 0.7224 - val_accuracy: 0.8285 - val_loss: 0.7859\n",
            "Epoch 23/100\n",
            "\u001b[1m100/100\u001b[0m \u001b[32m━━━━━━━━━━━━━━━━━━━━\u001b[0m\u001b[37m\u001b[0m \u001b[1m14s\u001b[0m 144ms/step - accuracy: 0.8406 - loss: 0.7076 - val_accuracy: 0.8335 - val_loss: 0.7675\n",
            "Epoch 24/100\n",
            "\u001b[1m100/100\u001b[0m \u001b[32m━━━━━━━━━━━━━━━━━━━━\u001b[0m\u001b[37m\u001b[0m \u001b[1m14s\u001b[0m 143ms/step - accuracy: 0.8408 - loss: 0.7004 - val_accuracy: 0.8327 - val_loss: 0.7696\n",
            "Epoch 25/100\n",
            "\u001b[1m100/100\u001b[0m \u001b[32m━━━━━━━━━━━━━━━━━━━━\u001b[0m\u001b[37m\u001b[0m \u001b[1m14s\u001b[0m 142ms/step - accuracy: 0.8476 - loss: 0.6718 - val_accuracy: 0.8338 - val_loss: 0.7624\n",
            "Epoch 26/100\n",
            "\u001b[1m100/100\u001b[0m \u001b[32m━━━━━━━━━━━━━━━━━━━━\u001b[0m\u001b[37m\u001b[0m \u001b[1m14s\u001b[0m 142ms/step - accuracy: 0.8442 - loss: 0.6958 - val_accuracy: 0.8367 - val_loss: 0.7510\n",
            "Epoch 27/100\n",
            "\u001b[1m100/100\u001b[0m \u001b[32m━━━━━━━━━━━━━━━━━━━━\u001b[0m\u001b[37m\u001b[0m \u001b[1m14s\u001b[0m 143ms/step - accuracy: 0.8439 - loss: 0.6814 - val_accuracy: 0.8378 - val_loss: 0.7437\n",
            "Epoch 28/100\n",
            "\u001b[1m100/100\u001b[0m \u001b[32m━━━━━━━━━━━━━━━━━━━━\u001b[0m\u001b[37m\u001b[0m \u001b[1m14s\u001b[0m 143ms/step - accuracy: 0.8520 - loss: 0.6436 - val_accuracy: 0.8376 - val_loss: 0.7357\n",
            "Epoch 29/100\n",
            "\u001b[1m100/100\u001b[0m \u001b[32m━━━━━━━━━━━━━━━━━━━━\u001b[0m\u001b[37m\u001b[0m \u001b[1m16s\u001b[0m 158ms/step - accuracy: 0.8524 - loss: 0.6439 - val_accuracy: 0.8356 - val_loss: 0.7412\n",
            "Epoch 30/100\n",
            "\u001b[1m100/100\u001b[0m \u001b[32m━━━━━━━━━━━━━━━━━━━━\u001b[0m\u001b[37m\u001b[0m \u001b[1m14s\u001b[0m 142ms/step - accuracy: 0.8540 - loss: 0.6346 - val_accuracy: 0.8377 - val_loss: 0.7410\n",
            "Epoch 31/100\n",
            "\u001b[1m100/100\u001b[0m \u001b[32m━━━━━━━━━━━━━━━━━━━━\u001b[0m\u001b[37m\u001b[0m \u001b[1m14s\u001b[0m 143ms/step - accuracy: 0.8551 - loss: 0.6221 - val_accuracy: 0.8399 - val_loss: 0.7318\n",
            "Epoch 32/100\n",
            "\u001b[1m100/100\u001b[0m \u001b[32m━━━━━━━━━━━━━━━━━━━━\u001b[0m\u001b[37m\u001b[0m \u001b[1m14s\u001b[0m 143ms/step - accuracy: 0.8568 - loss: 0.6119 - val_accuracy: 0.8403 - val_loss: 0.7227\n",
            "Epoch 33/100\n",
            "\u001b[1m100/100\u001b[0m \u001b[32m━━━━━━━━━━━━━━━━━━━━\u001b[0m\u001b[37m\u001b[0m \u001b[1m14s\u001b[0m 144ms/step - accuracy: 0.8565 - loss: 0.6188 - val_accuracy: 0.8386 - val_loss: 0.7297\n",
            "Epoch 34/100\n",
            "\u001b[1m100/100\u001b[0m \u001b[32m━━━━━━━━━━━━━━━━━━━━\u001b[0m\u001b[37m\u001b[0m \u001b[1m14s\u001b[0m 143ms/step - accuracy: 0.8593 - loss: 0.5976 - val_accuracy: 0.8427 - val_loss: 0.7146\n",
            "Epoch 35/100\n",
            "\u001b[1m100/100\u001b[0m \u001b[32m━━━━━━━━━━━━━━━━━━━━\u001b[0m\u001b[37m\u001b[0m \u001b[1m14s\u001b[0m 144ms/step - accuracy: 0.8634 - loss: 0.5744 - val_accuracy: 0.8422 - val_loss: 0.7139\n",
            "Epoch 36/100\n",
            "\u001b[1m100/100\u001b[0m \u001b[32m━━━━━━━━━━━━━━━━━━━━\u001b[0m\u001b[37m\u001b[0m \u001b[1m14s\u001b[0m 142ms/step - accuracy: 0.8627 - loss: 0.5730 - val_accuracy: 0.8419 - val_loss: 0.7208\n",
            "Epoch 37/100\n",
            "\u001b[1m100/100\u001b[0m \u001b[32m━━━━━━━━━━━━━━━━━━━━\u001b[0m\u001b[37m\u001b[0m \u001b[1m14s\u001b[0m 143ms/step - accuracy: 0.8635 - loss: 0.5739 - val_accuracy: 0.8436 - val_loss: 0.7146\n",
            "Epoch 38/100\n",
            "\u001b[1m100/100\u001b[0m \u001b[32m━━━━━━━━━━━━━━━━━━━━\u001b[0m\u001b[37m\u001b[0m \u001b[1m14s\u001b[0m 142ms/step - accuracy: 0.8684 - loss: 0.5531 - val_accuracy: 0.8431 - val_loss: 0.7087\n",
            "Epoch 39/100\n",
            "\u001b[1m100/100\u001b[0m \u001b[32m━━━━━━━━━━━━━━━━━━━━\u001b[0m\u001b[37m\u001b[0m \u001b[1m14s\u001b[0m 143ms/step - accuracy: 0.8679 - loss: 0.5534 - val_accuracy: 0.8432 - val_loss: 0.7161\n",
            "Epoch 40/100\n",
            "\u001b[1m100/100\u001b[0m \u001b[32m━━━━━━━━━━━━━━━━━━━━\u001b[0m\u001b[37m\u001b[0m \u001b[1m14s\u001b[0m 143ms/step - accuracy: 0.8707 - loss: 0.5438 - val_accuracy: 0.8452 - val_loss: 0.7056\n",
            "Epoch 41/100\n",
            "\u001b[1m100/100\u001b[0m \u001b[32m━━━━━━━━━━━━━━━━━━━━\u001b[0m\u001b[37m\u001b[0m \u001b[1m14s\u001b[0m 143ms/step - accuracy: 0.8680 - loss: 0.5493 - val_accuracy: 0.8447 - val_loss: 0.7085\n",
            "Epoch 42/100\n",
            "\u001b[1m100/100\u001b[0m \u001b[32m━━━━━━━━━━━━━━━━━━━━\u001b[0m\u001b[37m\u001b[0m \u001b[1m14s\u001b[0m 143ms/step - accuracy: 0.8670 - loss: 0.5577 - val_accuracy: 0.8454 - val_loss: 0.7001\n",
            "Epoch 43/100\n",
            "\u001b[1m100/100\u001b[0m \u001b[32m━━━━━━━━━━━━━━━━━━━━\u001b[0m\u001b[37m\u001b[0m \u001b[1m14s\u001b[0m 142ms/step - accuracy: 0.8748 - loss: 0.5163 - val_accuracy: 0.8466 - val_loss: 0.6986\n",
            "Epoch 44/100\n",
            "\u001b[1m100/100\u001b[0m \u001b[32m━━━━━━━━━━━━━━━━━━━━\u001b[0m\u001b[37m\u001b[0m \u001b[1m14s\u001b[0m 143ms/step - accuracy: 0.8750 - loss: 0.5211 - val_accuracy: 0.8462 - val_loss: 0.7002\n",
            "Epoch 45/100\n",
            "\u001b[1m100/100\u001b[0m \u001b[32m━━━━━━━━━━━━━━━━━━━━\u001b[0m\u001b[37m\u001b[0m \u001b[1m14s\u001b[0m 143ms/step - accuracy: 0.8755 - loss: 0.5129 - val_accuracy: 0.8458 - val_loss: 0.7050\n",
            "Epoch 46/100\n",
            "\u001b[1m100/100\u001b[0m \u001b[32m━━━━━━━━━━━━━━━━━━━━\u001b[0m\u001b[37m\u001b[0m \u001b[1m14s\u001b[0m 143ms/step - accuracy: 0.8735 - loss: 0.5151 - val_accuracy: 0.8447 - val_loss: 0.7033\n"
          ]
        },
        {
          "output_type": "execute_result",
          "data": {
            "text/plain": [
              "<keras.src.callbacks.history.History at 0x7a39b7694130>"
            ]
          },
          "metadata": {},
          "execution_count": 31
        }
      ],
      "source": [
        "model.compile(loss = tf.keras.losses.SparseCategoricalCrossentropy(from_logits = True),\n",
        "              optimizer = \"adam\",\n",
        "              metrics = [\"accuracy\"]\n",
        "              )\n",
        "model.fit(new_train_dataset.repeat(),\n",
        "          epochs = 100,\n",
        "          validation_data =  new_test_dataset,\n",
        "          steps_per_epoch = 100,\n",
        "          callbacks = tf.keras.callbacks.EarlyStopping(patience = 3)\n",
        "          )"
      ]
    },
    {
      "cell_type": "code",
      "execution_count": null,
      "metadata": {
        "colab": {
          "base_uri": "https://localhost:8080/"
        },
        "id": "-RGh7F0ZlNBJ",
        "outputId": "4b38d703-62f4-4d00-878b-8540e21e81a1"
      },
      "outputs": [
        {
          "output_type": "execute_result",
          "data": {
            "text/plain": [
              "<tf.Tensor: shape=(1,), dtype=string, numpy=array([b'\\xc2\\xbf que esta s haciendo ?    '], dtype=object)>"
            ]
          },
          "metadata": {},
          "execution_count": 48
        }
      ],
      "source": [
        "a = context_vect_layer(\"what are you doing?\")\n",
        "model.translation(tf.expand_dims(a,axis=0))"
      ]
    }
  ],
  "metadata": {
    "colab": {
      "provenance": [],
      "authorship_tag": "ABX9TyMZOyYUvswVybbq+FKRcWFC",
      "include_colab_link": true
    },
    "kernelspec": {
      "display_name": "Python 3",
      "name": "python3"
    },
    "language_info": {
      "name": "python"
    }
  },
  "nbformat": 4,
  "nbformat_minor": 0
}